{
 "cells": [
  {
   "cell_type": "markdown",
   "metadata": {},
   "source": [
    "# MNIST digits classification with Keras"
   ]
  },
  {
   "cell_type": "code",
   "execution_count": 1,
   "metadata": {},
   "outputs": [
    {
     "name": "stderr",
     "output_type": "stream",
     "text": [
      "Using TensorFlow backend.\n"
     ]
    }
   ],
   "source": [
    "import numpy as np\n",
    "from sklearn.metrics import accuracy_score\n",
    "from matplotlib import pyplot as plt\n",
    "%matplotlib inline\n",
    "import keras\n",
    "\n",
    "import sys\n",
    "sys.path.append(\"../..\")\n",
    "import keras_utils"
   ]
  },
  {
   "cell_type": "markdown",
   "metadata": {},
   "source": [
    "# Look at the data\n",
    "\n",
    "50000 28x28 images of digits from 0 to 9.\n",
    "We will train a classifier on this data."
   ]
  },
  {
   "cell_type": "code",
   "execution_count": 1,
   "metadata": {},
   "outputs": [
    {
     "data": {
      "text/plain": [
       "['x_test', 'x_train', 'y_train', 'y_test']"
      ]
     },
     "execution_count": 1,
     "metadata": {},
     "output_type": "execute_result"
    }
   ],
   "source": [
    "from numpy import load\n",
    "\n",
    "data = load('mnist.npz')\n",
    "lst = data.files\n",
    "lst"
   ]
  },
  {
   "cell_type": "code",
   "execution_count": 3,
   "metadata": {},
   "outputs": [],
   "source": [
    "x_train = data['x_train']\n",
    "x_test = data['x_test']\n",
    "y_train = data['y_train']\n",
    "y_test = data['y_test']"
   ]
  },
  {
   "cell_type": "code",
   "execution_count": 55,
   "metadata": {},
   "outputs": [
    {
     "data": {
      "image/png": "[encoded data removed]",
      "text/plain": [
       "<Figure size 432x288 with 1 Axes>"
      ]
     },
     "metadata": {
      "needs_background": "light"
     },
     "output_type": "display_data"
    }
   ],
   "source": [
    "plt.imshow(x_test[5], cmap=\"Greys\")\n",
    "plt.show()"
   ]
  },
  {
   "cell_type": "code",
   "execution_count": 5,
   "metadata": {},
   "outputs": [
    {
     "name": "stdout",
     "output_type": "stream",
     "text": [
      "(60000, 784)\n"
     ]
    }
   ],
   "source": [
    "# flatten images\n",
    "x_train_flat = x_train.reshape((x_train.shape[0], -1))\n",
    "print(x_train_flat.shape)\n",
    "\n",
    "x_test_flat = x_test.reshape((x_test.shape[0], -1))\n",
    "print(x_test_flat.shape)"
   ]
  },
  {
   "cell_type": "code",
   "execution_count": 6,
   "metadata": {},
   "outputs": [
    {
     "name": "stdout",
     "output_type": "stream",
     "text": [
      "(60000, 10)\n",
      "[[0. 0. 0. 0. 0. 0. 0. 1. 0. 0.]\n",
      " [0. 0. 1. 0. 0. 0. 0. 0. 0. 0.]\n",
      " [0. 1. 0. 0. 0. 0. 0. 0. 0. 0.]] [5 0 4]\n"
     ]
    }
   ],
   "source": [
    "# one-hot encode the target\n",
    "y_train_oh = keras.utils.to_categorical(y_train, 10)\n",
    "y_test_oh = keras.utils.to_categorical(y_test, 10)\n",
    "\n",
    "print(y_train_oh.shape)\n",
    "print(y_test_oh[:3], y_train[:3])"
   ]
  },
  {
   "cell_type": "code",
   "execution_count": 7,
   "metadata": {},
   "outputs": [
    {
     "name": "stdout",
     "output_type": "stream",
     "text": [
      "WARNING:tensorflow:From /Library/Frameworks/Python.framework/Versions/3.6/lib/python3.6/site-packages/tensorflow/python/framework/op_def_library.py:263: colocate_with (from tensorflow.python.framework.ops) is deprecated and will be removed in a future version.\n",
      "Instructions for updating:\n",
      "Colocations handled automatically by placer.\n",
      "_________________________________________________________________\n",
      "Layer (type)                 Output Shape              Param #   \n",
      "=================================================================\n",
      "dense_1 (Dense)              (None, 512)               401920    \n",
      "_________________________________________________________________\n",
      "dense_2 (Dense)              (None, 256)               131328    \n",
      "_________________________________________________________________\n",
      "dense_3 (Dense)              (None, 128)               32896     \n",
      "_________________________________________________________________\n",
      "dense_4 (Dense)              (None, 64)                8256      \n",
      "_________________________________________________________________\n",
      "dense_5 (Dense)              (None, 10)                650       \n",
      "=================================================================\n",
      "Total params: 575,050\n",
      "Trainable params: 575,050\n",
      "Non-trainable params: 0\n",
      "_________________________________________________________________\n"
     ]
    }
   ],
   "source": [
    "# building a model with keras\n",
    "from keras.layers import Dense\n",
    "from keras.models import Sequential\n",
    "\n",
    "model = Sequential()  # it is a feed-forward network without loops like in RNN\n",
    "model.add(Dense(512, input_shape=(784,), activation='relu'))  # the first layer must specify the input shape (replacing placeholders)\n",
    "model.add(Dense(256, activation='relu'))\n",
    "model.add(Dense(128, activation='tanh'))\n",
    "model.add(Dense(64, activation='tanh'))\n",
    "model.add(Dense(10, activation='softmax'))\n",
    "\n",
    "model.summary()"
   ]
  },
  {
   "cell_type": "code",
   "execution_count": 8,
   "metadata": {},
   "outputs": [],
   "source": [
    "model.compile(\n",
    "    loss='categorical_crossentropy',\n",
    "    optimizer='adam',\n",
    "    metrics=['accuracy']\n",
    ")"
   ]
  },
  {
   "cell_type": "code",
   "execution_count": 10,
   "metadata": {},
   "outputs": [],
   "source": [
    "from keras.callbacks import ModelCheckpoint\n",
    "\n",
    "filepath=\"weights-mnist-keras-{epoch:02d}-{val_acc:.2f}.hdf5\"\n",
    "checkpoint = ModelCheckpoint(filepath, monitor='val_acc', verbose=1, save_best_only=True, mode='max')\n",
    "callbacks_list = [checkpoint]"
   ]
  },
  {
   "cell_type": "code",
   "execution_count": 11,
   "metadata": {},
   "outputs": [
    {
     "name": "stdout",
     "output_type": "stream",
     "text": [
      "WARNING:tensorflow:From /Library/Frameworks/Python.framework/Versions/3.6/lib/python3.6/site-packages/tensorflow/python/ops/math_ops.py:3066: to_int32 (from tensorflow.python.ops.math_ops) is deprecated and will be removed in a future version.\n",
      "Instructions for updating:\n",
      "Use tf.cast instead.\n",
      "\n",
      "Epoch 00001: val_acc improved from -inf to 0.89860, saving model to weights-mnist-keras-01-0.90.hdf5\n",
      "\n",
      "Epoch 00002: val_acc improved from 0.89860 to 0.91830, saving model to weights-mnist-keras-02-0.92.hdf5\n",
      "\n",
      "Epoch 00003: val_acc improved from 0.91830 to 0.92290, saving model to weights-mnist-keras-03-0.92.hdf5\n",
      "\n",
      "Epoch 00004: val_acc did not improve from 0.92290\n",
      "\n",
      "Epoch 00005: val_acc improved from 0.92290 to 0.92710, saving model to weights-mnist-keras-05-0.93.hdf5\n",
      "\n",
      "Epoch 00006: val_acc improved from 0.92710 to 0.94270, saving model to weights-mnist-keras-06-0.94.hdf5\n",
      "\n",
      "Epoch 00007: val_acc did not improve from 0.94270\n",
      "\n",
      "Epoch 00008: val_acc did not improve from 0.94270\n",
      "\n",
      "Epoch 00009: val_acc did not improve from 0.94270\n",
      "\n",
      "Epoch 00010: val_acc did not improve from 0.94270\n",
      "\n",
      "Epoch 00011: val_acc did not improve from 0.94270\n",
      "\n",
      "Epoch 00012: val_acc did not improve from 0.94270\n",
      "\n",
      "Epoch 00013: val_acc did not improve from 0.94270\n",
      "\n",
      "Epoch 00014: val_acc did not improve from 0.94270\n",
      "\n",
      "Epoch 00015: val_acc improved from 0.94270 to 0.94320, saving model to weights-mnist-keras-15-0.94.hdf5\n",
      "\n",
      "Epoch 00016: val_acc improved from 0.94320 to 0.94960, saving model to weights-mnist-keras-16-0.95.hdf5\n",
      "\n",
      "Epoch 00017: val_acc did not improve from 0.94960\n",
      "\n",
      "Epoch 00018: val_acc did not improve from 0.94960\n",
      "\n",
      "Epoch 00019: val_acc improved from 0.94960 to 0.94990, saving model to weights-mnist-keras-19-0.95.hdf5\n",
      "\n",
      "Epoch 00020: val_acc did not improve from 0.94990\n",
      "\n",
      "Epoch 00021: val_acc improved from 0.94990 to 0.95250, saving model to weights-mnist-keras-21-0.95.hdf5\n",
      "\n",
      "Epoch 00022: val_acc did not improve from 0.95250\n",
      "\n",
      "Epoch 00023: val_acc improved from 0.95250 to 0.95420, saving model to weights-mnist-keras-23-0.95.hdf5\n",
      "\n",
      "Epoch 00024: val_acc improved from 0.95420 to 0.95560, saving model to weights-mnist-keras-24-0.96.hdf5\n",
      "\n",
      "Epoch 00025: val_acc did not improve from 0.95560\n",
      "\n",
      "Epoch 00026: val_acc did not improve from 0.95560\n",
      "\n",
      "Epoch 00027: val_acc did not improve from 0.95560\n",
      "\n",
      "Epoch 00028: val_acc improved from 0.95560 to 0.95970, saving model to weights-mnist-keras-28-0.96.hdf5\n",
      "\n",
      "Epoch 00029: val_acc did not improve from 0.95970\n",
      "\n",
      "Epoch 00030: val_acc did not improve from 0.95970\n",
      "\n",
      "Epoch 00031: val_acc did not improve from 0.95970\n",
      "\n",
      "Epoch 00032: val_acc did not improve from 0.95970\n",
      "\n",
      "Epoch 00033: val_acc did not improve from 0.95970\n",
      "\n",
      "Epoch 00034: val_acc did not improve from 0.95970\n",
      "\n",
      "Epoch 00035: val_acc did not improve from 0.95970\n",
      "\n",
      "Epoch 00036: val_acc did not improve from 0.95970\n",
      "\n",
      "Epoch 00037: val_acc did not improve from 0.95970\n",
      "\n",
      "Epoch 00038: val_acc did not improve from 0.95970\n",
      "\n",
      "Epoch 00039: val_acc did not improve from 0.95970\n",
      "\n",
      "Epoch 00040: val_acc did not improve from 0.95970\n",
      "\n",
      "Epoch 00041: val_acc improved from 0.95970 to 0.96050, saving model to weights-mnist-keras-41-0.96.hdf5\n",
      "\n",
      "Epoch 00042: val_acc did not improve from 0.96050\n",
      "\n",
      "Epoch 00043: val_acc did not improve from 0.96050\n",
      "\n",
      "Epoch 00044: val_acc did not improve from 0.96050\n",
      "\n",
      "Epoch 00045: val_acc did not improve from 0.96050\n",
      "\n",
      "Epoch 00046: val_acc did not improve from 0.96050\n",
      "\n",
      "Epoch 00047: val_acc did not improve from 0.96050\n",
      "\n",
      "Epoch 00048: val_acc improved from 0.96050 to 0.96210, saving model to weights-mnist-keras-48-0.96.hdf5\n",
      "\n",
      "Epoch 00049: val_acc did not improve from 0.96210\n",
      "\n",
      "Epoch 00050: val_acc did not improve from 0.96210\n"
     ]
    },
    {
     "data": {
      "text/plain": [
       "<keras.callbacks.History at 0x12521a780>"
      ]
     },
     "execution_count": 11,
     "metadata": {},
     "output_type": "execute_result"
    }
   ],
   "source": [
    "model.fit(\n",
    "    x_train_flat, \n",
    "    y_train_oh,\n",
    "    batch_size=512, \n",
    "    epochs=50,\n",
    "    validation_data=(x_test_flat, y_test_oh),\n",
    "    callbacks=callbacks_list,\n",
    "    verbose=0\n",
    ")"
   ]
  },
  {
   "cell_type": "code",
   "execution_count": 34,
   "metadata": {},
   "outputs": [
    {
     "name": "stdout",
     "output_type": "stream",
     "text": [
      "10000/10000 [==============================] - 1s 69us/step\n"
     ]
    },
    {
     "data": {
      "text/plain": [
       "[0.1378810730330646, 0.9585]"
      ]
     },
     "execution_count": 34,
     "metadata": {},
     "output_type": "execute_result"
    }
   ],
   "source": [
    "model.evaluate(x_test_flat,y_test_oh)"
   ]
  },
  {
   "cell_type": "code",
   "execution_count": 58,
   "metadata": {},
   "outputs": [
    {
     "data": {
      "text/plain": [
       "1"
      ]
     },
     "execution_count": 58,
     "metadata": {},
     "output_type": "execute_result"
    }
   ],
   "source": [
    "np.argmax(model.predict(x_test_flat[5].reshape(1,784)))"
   ]
  },
  {
   "cell_type": "code",
   "execution_count": null,
   "metadata": {},
   "outputs": [],
   "source": []
  }
 ],
 "metadata": {
  "kernelspec": {
   "display_name": "Python 3",
   "language": "python",
   "name": "python3"
  },
  "language_info": {
   "codemirror_mode": {
    "name": "ipython",
    "version": 3
   },
   "file_extension": ".py",
   "mimetype": "text/x-python",
   "name": "python",
   "nbconvert_exporter": "python",
   "pygments_lexer": "ipython3",
   "version": "3.6.5"
  }
 },
 "nbformat": 4,
 "nbformat_minor": 2
}
